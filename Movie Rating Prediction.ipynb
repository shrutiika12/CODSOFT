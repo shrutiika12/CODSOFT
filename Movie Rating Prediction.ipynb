{
 "cells": [
  {
   "cell_type": "code",
   "execution_count": 34,
   "id": "5a8c15ab-ed1c-4173-99f0-c1cdb4e9f0c6",
   "metadata": {},
   "outputs": [],
   "source": [
    "import pandas as pd"
   ]
  },
  {
   "cell_type": "code",
   "execution_count": 35,
   "id": "c8fc25c5-92b3-4ff6-b63f-ee617388c89e",
   "metadata": {},
   "outputs": [],
   "source": [
    "df = pd.read_csv(\"Datasets/movies.csv\", encoding='latin1')\n",
    "\n"
   ]
  },
  {
   "cell_type": "code",
   "execution_count": 44,
   "id": "96fe997b-d16f-4a35-9158-89f8a3bf5825",
   "metadata": {},
   "outputs": [
    {
     "data": {
      "text/html": [
       "<div>\n",
       "<style scoped>\n",
       "    .dataframe tbody tr th:only-of-type {\n",
       "        vertical-align: middle;\n",
       "    }\n",
       "\n",
       "    .dataframe tbody tr th {\n",
       "        vertical-align: top;\n",
       "    }\n",
       "\n",
       "    .dataframe thead th {\n",
       "        text-align: right;\n",
       "    }\n",
       "</style>\n",
       "<table border=\"1\" class=\"dataframe\">\n",
       "  <thead>\n",
       "    <tr style=\"text-align: right;\">\n",
       "      <th></th>\n",
       "      <th>Year</th>\n",
       "      <th>Duration</th>\n",
       "      <th>Genre</th>\n",
       "      <th>Rating</th>\n",
       "      <th>Votes</th>\n",
       "      <th>Director</th>\n",
       "      <th>Actor 1</th>\n",
       "      <th>Actor 2</th>\n",
       "      <th>Actor 3</th>\n",
       "    </tr>\n",
       "  </thead>\n",
       "  <tbody>\n",
       "    <tr>\n",
       "      <th>371</th>\n",
       "      <td>2001</td>\n",
       "      <td>177.00000</td>\n",
       "      <td>Action, Thriller</td>\n",
       "      <td>7.2</td>\n",
       "      <td>35.0</td>\n",
       "      <td>Suresh Krishna</td>\n",
       "      <td>Kamal Haasan</td>\n",
       "      <td>Raveena Tandon</td>\n",
       "      <td>Manisha Koirala</td>\n",
       "    </tr>\n",
       "    <tr>\n",
       "      <th>14198</th>\n",
       "      <td>2019</td>\n",
       "      <td>111.00000</td>\n",
       "      <td>Crime, Mystery, Thriller</td>\n",
       "      <td>8.7</td>\n",
       "      <td>85.0</td>\n",
       "      <td>Rohit Arora</td>\n",
       "      <td>Saasha Aery</td>\n",
       "      <td>Sidharth Bhardwaj</td>\n",
       "      <td>Anahita Bhooshan</td>\n",
       "    </tr>\n",
       "    <tr>\n",
       "      <th>1600</th>\n",
       "      <td>2018</td>\n",
       "      <td>124.00000</td>\n",
       "      <td>Comedy, Drama</td>\n",
       "      <td>8.0</td>\n",
       "      <td>35.0</td>\n",
       "      <td>Amit Ravindernath Sharma</td>\n",
       "      <td>Ayushmann Khurrana</td>\n",
       "      <td>Neena Gupta</td>\n",
       "      <td>Gajraj Rao</td>\n",
       "    </tr>\n",
       "    <tr>\n",
       "      <th>394</th>\n",
       "      <td>1964</td>\n",
       "      <td>132.29448</td>\n",
       "      <td>Action, Adventure, Romance</td>\n",
       "      <td>6.0</td>\n",
       "      <td>8.0</td>\n",
       "      <td>Mohammed Hussain</td>\n",
       "      <td>Dara Singh</td>\n",
       "      <td>Mumtaz</td>\n",
       "      <td>Kamran</td>\n",
       "    </tr>\n",
       "    <tr>\n",
       "      <th>10141</th>\n",
       "      <td>1976</td>\n",
       "      <td>132.29448</td>\n",
       "      <td>Action, Crime, Drama</td>\n",
       "      <td>5.4</td>\n",
       "      <td>32.0</td>\n",
       "      <td>Raj Khosla</td>\n",
       "      <td>Sunil Dutt</td>\n",
       "      <td>Saira Banu</td>\n",
       "      <td>Vinod Khanna</td>\n",
       "    </tr>\n",
       "    <tr>\n",
       "      <th>2370</th>\n",
       "      <td>1960</td>\n",
       "      <td>132.29448</td>\n",
       "      <td>Drama</td>\n",
       "      <td>5.7</td>\n",
       "      <td>12.0</td>\n",
       "      <td>R. Krishnan</td>\n",
       "      <td>S. Panju</td>\n",
       "      <td>Padmini</td>\n",
       "      <td>Balraj Sahni</td>\n",
       "    </tr>\n",
       "  </tbody>\n",
       "</table>\n",
       "</div>"
      ],
      "text/plain": [
       "       Year   Duration                       Genre  Rating  Votes  \\\n",
       "371    2001  177.00000            Action, Thriller     7.2   35.0   \n",
       "14198  2019  111.00000    Crime, Mystery, Thriller     8.7   85.0   \n",
       "1600   2018  124.00000               Comedy, Drama     8.0   35.0   \n",
       "394    1964  132.29448  Action, Adventure, Romance     6.0    8.0   \n",
       "10141  1976  132.29448        Action, Crime, Drama     5.4   32.0   \n",
       "2370   1960  132.29448                       Drama     5.7   12.0   \n",
       "\n",
       "                       Director             Actor 1            Actor 2  \\\n",
       "371              Suresh Krishna        Kamal Haasan     Raveena Tandon   \n",
       "14198               Rohit Arora         Saasha Aery  Sidharth Bhardwaj   \n",
       "1600   Amit Ravindernath Sharma  Ayushmann Khurrana        Neena Gupta   \n",
       "394            Mohammed Hussain          Dara Singh             Mumtaz   \n",
       "10141                Raj Khosla          Sunil Dutt         Saira Banu   \n",
       "2370                R. Krishnan            S. Panju            Padmini   \n",
       "\n",
       "                Actor 3  \n",
       "371     Manisha Koirala  \n",
       "14198  Anahita Bhooshan  \n",
       "1600         Gajraj Rao  \n",
       "394              Kamran  \n",
       "10141      Vinod Khanna  \n",
       "2370       Balraj Sahni  "
      ]
     },
     "execution_count": 44,
     "metadata": {},
     "output_type": "execute_result"
    }
   ],
   "source": [
    "df.sample(6)"
   ]
  },
  {
   "cell_type": "code",
   "execution_count": 59,
   "id": "bfb3c649-3323-464f-99c7-65517a9c8930",
   "metadata": {},
   "outputs": [
    {
     "name": "stdout",
     "output_type": "stream",
     "text": [
      "<class 'pandas.core.frame.DataFrame'>\n",
      "Index: 7919 entries, 1 to 15508\n",
      "Data columns (total 9 columns):\n",
      " #   Column    Non-Null Count  Dtype  \n",
      "---  ------    --------------  -----  \n",
      " 0   Year      7919 non-null   int64  \n",
      " 1   Duration  7919 non-null   float64\n",
      " 2   Genre     7919 non-null   object \n",
      " 3   Rating    7919 non-null   float64\n",
      " 4   Votes     7919 non-null   float64\n",
      " 5   Director  7919 non-null   object \n",
      " 6   Actor 1   7919 non-null   object \n",
      " 7   Actor 2   7919 non-null   object \n",
      " 8   Actor 3   7919 non-null   object \n",
      "dtypes: float64(3), int64(1), object(5)\n",
      "memory usage: 618.7+ KB\n"
     ]
    }
   ],
   "source": [
    "df.info()"
   ]
  },
  {
   "cell_type": "code",
   "execution_count": 38,
   "id": "b4305e86-99a1-4e5a-971a-c0afe36c2e8c",
   "metadata": {},
   "outputs": [],
   "source": [
    "df.dropna(subset=['Rating'], inplace=True)"
   ]
  },
  {
   "cell_type": "code",
   "execution_count": 39,
   "id": "6a6a4137-4e06-4afb-b4bf-59341b634614",
   "metadata": {},
   "outputs": [],
   "source": [
    "# df['Votes'] = df['Votes'].str.replace(',', '', regex=False)\n",
    "df['Votes'] = pd.to_numeric(df['Votes'], errors='coerce')"
   ]
  },
  {
   "cell_type": "code",
   "execution_count": 40,
   "id": "c76f2828-a9c1-4802-82f2-7f9db3c06ba9",
   "metadata": {},
   "outputs": [],
   "source": [
    "df['Year'] = df['Year'].astype(str)           \n",
    "df['Year'] = df['Year'].str.extract(r'(\\d{4})') \n",
    "df['Year'] = pd.to_numeric(df['Year'], errors='coerce')\n"
   ]
  },
  {
   "cell_type": "code",
   "execution_count": 41,
   "id": "80053e1a-8b70-49cd-9c00-eef36cd0a38e",
   "metadata": {},
   "outputs": [],
   "source": [
    "df['Duration'] = df['Duration'].astype(str)\n",
    "df['Duration'] = df['Duration'].str.replace(',', '', regex=False)\n",
    "df['Duration'] = df['Duration'].str.extract(r'(\\d+)')  \n",
    "df['Duration'] = pd.to_numeric(df['Duration'], errors='coerce')\n"
   ]
  },
  {
   "cell_type": "code",
   "execution_count": 42,
   "id": "935fb27a-d541-4990-a5d6-9cd1fdbc5541",
   "metadata": {},
   "outputs": [
    {
     "name": "stderr",
     "output_type": "stream",
     "text": [
      "/var/folders/ww/mt9vwdt90_5_tqhykvt71gdc0000gn/T/ipykernel_1062/858332472.py:1: FutureWarning: A value is trying to be set on a copy of a DataFrame or Series through chained assignment using an inplace method.\n",
      "The behavior will change in pandas 3.0. This inplace method will never work because the intermediate object on which we are setting values always behaves as a copy.\n",
      "\n",
      "For example, when doing 'df[col].method(value, inplace=True)', try using 'df.method({col: value}, inplace=True)' or df[col] = df[col].method(value) instead, to perform the operation inplace on the original object.\n",
      "\n",
      "\n",
      "  df['Duration'].fillna(df['Duration'].mean(), inplace=True)\n",
      "/var/folders/ww/mt9vwdt90_5_tqhykvt71gdc0000gn/T/ipykernel_1062/858332472.py:2: FutureWarning: A value is trying to be set on a copy of a DataFrame or Series through chained assignment using an inplace method.\n",
      "The behavior will change in pandas 3.0. This inplace method will never work because the intermediate object on which we are setting values always behaves as a copy.\n",
      "\n",
      "For example, when doing 'df[col].method(value, inplace=True)', try using 'df.method({col: value}, inplace=True)' or df[col] = df[col].method(value) instead, to perform the operation inplace on the original object.\n",
      "\n",
      "\n",
      "  df['Votes'].fillna(df['Votes'].median(), inplace=True)\n",
      "/var/folders/ww/mt9vwdt90_5_tqhykvt71gdc0000gn/T/ipykernel_1062/858332472.py:5: FutureWarning: A value is trying to be set on a copy of a DataFrame or Series through chained assignment using an inplace method.\n",
      "The behavior will change in pandas 3.0. This inplace method will never work because the intermediate object on which we are setting values always behaves as a copy.\n",
      "\n",
      "For example, when doing 'df[col].method(value, inplace=True)', try using 'df.method({col: value}, inplace=True)' or df[col] = df[col].method(value) instead, to perform the operation inplace on the original object.\n",
      "\n",
      "\n",
      "  df[col].fillna('Unknown', inplace=True)\n"
     ]
    }
   ],
   "source": [
    "df['Duration'].fillna(df['Duration'].mean(), inplace=True)\n",
    "df['Votes'].fillna(df['Votes'].median(), inplace=True)\n",
    "for col in ['Genre', 'Director', 'Actor 1', 'Actor 2', 'Actor 3']:\n",
    "    df[col].fillna('Unknown', inplace=True)"
   ]
  },
  {
   "cell_type": "code",
   "execution_count": 43,
   "id": "22e1062d-9722-4f4d-81e0-61a89ea22797",
   "metadata": {},
   "outputs": [],
   "source": [
    "df.drop(columns=['Name'], inplace=True)"
   ]
  },
  {
   "cell_type": "code",
   "execution_count": 46,
   "id": "51354d7b-2397-4327-9bdf-e62be4c6adb0",
   "metadata": {},
   "outputs": [],
   "source": [
    "from sklearn.model_selection import train_test_split\n",
    "X = df.drop(columns=['Rating'])\n",
    "y = df['Rating']\n",
    "X_train, X_test, y_train, y_test = train_test_split(\n",
    "    X, y, test_size=0.2, random_state=42\n",
    ")"
   ]
  },
  {
   "cell_type": "code",
   "execution_count": 55,
   "id": "98a19f69-8784-4a87-bc84-a8942a9775d9",
   "metadata": {},
   "outputs": [],
   "source": [
    "from category_encoders import TargetEncoder\n",
    "cat_cols = ['Director', 'Actor 1', 'Actor 2', 'Actor 3']\n",
    "encoder = TargetEncoder(cols=cat_cols)\n",
    "X_train[cat_cols] = encoder.fit_transform(X_train[cat_cols], y_train)\n",
    "X_test[cat_cols] = encoder.transform(X_test[cat_cols])"
   ]
  },
  {
   "cell_type": "code",
   "execution_count": 56,
   "id": "59730790-4b39-433a-b93e-10aae5f6628f",
   "metadata": {},
   "outputs": [],
   "source": [
    "X_train['Genre'] = X_train['Genre'].apply(lambda x: [g.strip() for g in x.split(',')] if isinstance(x, str) else [])\n",
    "X_test['Genre'] = X_test['Genre'].apply(lambda x: [g.strip() for g in x.split(',')] if isinstance(x, str) else [])"
   ]
  },
  {
   "cell_type": "code",
   "execution_count": 57,
   "id": "80767b96-8fcd-4a37-8e96-065762f35030",
   "metadata": {},
   "outputs": [],
   "source": [
    "from sklearn.preprocessing import MultiLabelBinarizer\n",
    "mlb = MultiLabelBinarizer()\n",
    "train_genres = pd.DataFrame(mlb.fit_transform(X_train['Genre']),\n",
    "                            columns=mlb.classes_,\n",
    "                            index=X_train.index)\n",
    "test_genres = pd.DataFrame(mlb.transform(X_test['Genre']),\n",
    "                           columns=mlb.classes_,\n",
    "                           index=X_test.index)\n",
    "X_train = pd.concat([X_train.drop(columns='Genre'), train_genres], axis=1)\n",
    "X_test = pd.concat([X_test.drop(columns='Genre'), test_genres], axis=1)"
   ]
  },
  {
   "cell_type": "code",
   "execution_count": 58,
   "id": "15a93a3b-331b-48c7-b411-3e6b3462797d",
   "metadata": {},
   "outputs": [
    {
     "name": "stdout",
     "output_type": "stream",
     "text": [
      "Year             int64\n",
      "Duration       float64\n",
      "Votes          float64\n",
      "Director       float64\n",
      "Actor 1        float64\n",
      "Actor 2        float64\n",
      "Actor 3        float64\n",
      "Action           int64\n",
      "Adventure        int64\n",
      "Animation        int64\n",
      "Biography        int64\n",
      "Comedy           int64\n",
      "Crime            int64\n",
      "Documentary      int64\n",
      "Drama            int64\n",
      "Family           int64\n",
      "Fantasy          int64\n",
      "History          int64\n",
      "Horror           int64\n",
      "Music            int64\n",
      "Musical          int64\n",
      "Mystery          int64\n",
      "News             int64\n",
      "Romance          int64\n",
      "Sci-Fi           int64\n",
      "Sport            int64\n",
      "Thriller         int64\n",
      "Unknown          int64\n",
      "War              int64\n",
      "Western          int64\n",
      "dtype: object\n",
      "Year             int64\n",
      "Duration       float64\n",
      "Votes          float64\n",
      "Director       float64\n",
      "Actor 1        float64\n",
      "Actor 2        float64\n",
      "Actor 3        float64\n",
      "Action           int64\n",
      "Adventure        int64\n",
      "Animation        int64\n",
      "Biography        int64\n",
      "Comedy           int64\n",
      "Crime            int64\n",
      "Documentary      int64\n",
      "Drama            int64\n",
      "Family           int64\n",
      "Fantasy          int64\n",
      "History          int64\n",
      "Horror           int64\n",
      "Music            int64\n",
      "Musical          int64\n",
      "Mystery          int64\n",
      "News             int64\n",
      "Romance          int64\n",
      "Sci-Fi           int64\n",
      "Sport            int64\n",
      "Thriller         int64\n",
      "Unknown          int64\n",
      "War              int64\n",
      "Western          int64\n",
      "dtype: object\n"
     ]
    }
   ],
   "source": [
    "print(X_train.dtypes)\n",
    "print(X_test.dtypes)"
   ]
  },
  {
   "cell_type": "code",
   "execution_count": 62,
   "id": "34dfce79-5c4e-4bc0-8a98-3a41fd029f54",
   "metadata": {},
   "outputs": [],
   "source": [
    "from sklearn.ensemble import RandomForestRegressor\n",
    "\n",
    "model = RandomForestRegressor(n_estimators=500,\n",
    "    max_depth=15,\n",
    "    min_samples_leaf=3,\n",
    "    random_state=42)\n",
    "model.fit(X_train, y_train)\n",
    "preds = model.predict(X_test)\n"
   ]
  },
  {
   "cell_type": "code",
   "execution_count": 63,
   "id": "160a5a53-bd6c-4047-90a2-ed51ca969da1",
   "metadata": {},
   "outputs": [
    {
     "name": "stdout",
     "output_type": "stream",
     "text": [
      "MAE: 0.930\n",
      "RMSE: 1.207\n",
      "R²: 0.216\n"
     ]
    }
   ],
   "source": [
    "from sklearn.metrics import mean_absolute_error, mean_squared_error, r2_score\n",
    "import numpy as np\n",
    "\n",
    "preds = model.predict(X_test)\n",
    "\n",
    "mae = mean_absolute_error(y_test, preds)\n",
    "mse = mean_squared_error(y_test, preds)\n",
    "rmse = np.sqrt(mse)\n",
    "r2 = r2_score(y_test, preds)\n",
    "\n",
    "print(f\"MAE: {mae:.3f}\")\n",
    "print(f\"RMSE: {rmse:.3f}\")\n",
    "print(f\"R²: {r2:.3f}\")\n"
   ]
  },
  {
   "cell_type": "code",
   "execution_count": null,
   "id": "9932bb66-0b81-4025-9a19-7246ee6d72ff",
   "metadata": {},
   "outputs": [],
   "source": []
  },
  {
   "cell_type": "code",
   "execution_count": null,
   "id": "66733821-a52a-4341-ae97-2419b42c4632",
   "metadata": {},
   "outputs": [],
   "source": []
  }
 ],
 "metadata": {
  "kernelspec": {
   "display_name": "Python [conda env:base] *",
   "language": "python",
   "name": "conda-base-py"
  },
  "language_info": {
   "codemirror_mode": {
    "name": "ipython",
    "version": 3
   },
   "file_extension": ".py",
   "mimetype": "text/x-python",
   "name": "python",
   "nbconvert_exporter": "python",
   "pygments_lexer": "ipython3",
   "version": "3.13.5"
  }
 },
 "nbformat": 4,
 "nbformat_minor": 5
}
